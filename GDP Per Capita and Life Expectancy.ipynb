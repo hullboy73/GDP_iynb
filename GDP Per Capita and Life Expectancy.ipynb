{
 "cells": [
  {
   "cell_type": "markdown",
   "metadata": {},
   "source": [
    "# Project 3: GDP per Capita and Life Expectancy\n",
    "\n",
    "by Michel Wermelinger, 27 August 2015, and Benjamin Woodling, 01 December 2015.\n",
    "\n",
    "This is the project notebook for Week 3 of The Open University's [_Learn to code for Data Analysis_](http://futurelearn.com/courses/learn-to-code) course.\n",
    "\n",
    "Richer countries can afford to invest more on healthcare, on work and road safety, and other measures that reduce mortality. On the other hand, richer countries may have less healthy lifestyles. Is there any relation between the wealth of a country and the life expectancy of its inhabitants?\n",
    "\n",
    "The following analysis checks whether there is any correlation between the total gross domestic product (GDP) of a country in 2013 and the life expectancy of people born in that country in 2013."
   ]
  },
  {
   "cell_type": "markdown",
   "metadata": {},
   "source": [
    "## Getting the data\n",
    "\n",
    "Two datasets of the World Bank are considered. One dataset, available at <http://data.worldbank.org/indicator/NY.GDP.MKTP.CD>, lists the GDP of the world's countries in current US dollars, for various years. The use of a common currency allows to compare GDP values across countries. The other dataset, available at <http://data.worldbank.org/indicator/SP.DYN.LE00.IN>, lists the life expectancy of the world's countries. \n",
    "\n",
    "The datasets are downloaded directly, using the unique indicator name given in the URL."
   ]
  },
  {
   "cell_type": "code",
   "execution_count": 198,
   "metadata": {
    "collapsed": false
   },
   "outputs": [],
   "source": [
    "from pandas import *\n",
    "from pandas.io.wb import download\n",
    "\n",
    "YEAR = 2013\n",
    "GDP_INDICATOR = 'NY.GDP.MKTP.CD'\n",
    "gdp = download(indicator=GDP_INDICATOR, country='all', start=YEAR, end=YEAR)\n",
    "LIFE_INDICATOR = 'SP.DYN.LE00.IN'\n",
    "life = download(indicator=LIFE_INDICATOR, country='all', start=YEAR, end=YEAR)"
   ]
  },
  {
   "cell_type": "markdown",
   "metadata": {},
   "source": [
    "## Cleaning the data\n",
    "\n",
    "Inspecting the data with `head()` and `tail()` shows that:\n",
    "\n",
    "1. country names are the row indices, not column values;\n",
    "- the first 34 rows are aggregated data, for the Arab World, the Caribbean small states, and other country groups used by the World Bank;\n",
    "- GDP and life expectancy values are missing for some countries.\n",
    "\n",
    "The data is therefore cleaned by:\n",
    "1. transforming the dataframe index into columns and creating a new index 0, 1, 2, etc.;\n",
    "- removing the first 34 rows;\n",
    "- removing rows with unavailable values."
   ]
  },
  {
   "cell_type": "code",
   "execution_count": 199,
   "metadata": {
    "collapsed": false
   },
   "outputs": [],
   "source": [
    "gdp = gdp.reset_index()[34:].dropna()\n",
    "life = life.reset_index()[34:].dropna()"
   ]
  },
  {
   "cell_type": "markdown",
   "metadata": {},
   "source": [
    "## Transforming the data\n",
    "\n",
    "The World Bank reports GDP in US dollars and cents. To make the data easier to read, the GDP is converted to millions of British pounds (the author's local currency) with the following auxiliary functions, using the average 2013 dollar-to-pound conversion rate provided by <http://www.ukforex.co.uk/forex-tools/historical-rate-tools/yearly-average-rates>. "
   ]
  },
  {
   "cell_type": "code",
   "execution_count": 200,
   "metadata": {
    "collapsed": false
   },
   "outputs": [
    {
     "data": {
      "text/html": [
       "<div>\n",
       "<table border=\"1\" class=\"dataframe\">\n",
       "  <thead>\n",
       "    <tr style=\"text-align: right;\">\n",
       "      <th></th>\n",
       "      <th>country</th>\n",
       "      <th>year</th>\n",
       "      <th>NY.GDP.MKTP.CD</th>\n",
       "      <th>GDP (£m)</th>\n",
       "    </tr>\n",
       "  </thead>\n",
       "  <tbody>\n",
       "    <tr>\n",
       "      <th>34</th>\n",
       "      <td>Afghanistan</td>\n",
       "      <td>2013</td>\n",
       "      <td>2.031088e+10</td>\n",
       "      <td>12980</td>\n",
       "    </tr>\n",
       "    <tr>\n",
       "      <th>35</th>\n",
       "      <td>Albania</td>\n",
       "      <td>2013</td>\n",
       "      <td>1.291667e+10</td>\n",
       "      <td>8255</td>\n",
       "    </tr>\n",
       "    <tr>\n",
       "      <th>36</th>\n",
       "      <td>Algeria</td>\n",
       "      <td>2013</td>\n",
       "      <td>2.101834e+11</td>\n",
       "      <td>134322</td>\n",
       "    </tr>\n",
       "    <tr>\n",
       "      <th>38</th>\n",
       "      <td>Andorra</td>\n",
       "      <td>2013</td>\n",
       "      <td>3.249101e+09</td>\n",
       "      <td>2076</td>\n",
       "    </tr>\n",
       "    <tr>\n",
       "      <th>39</th>\n",
       "      <td>Angola</td>\n",
       "      <td>2013</td>\n",
       "      <td>1.241632e+11</td>\n",
       "      <td>79349</td>\n",
       "    </tr>\n",
       "  </tbody>\n",
       "</table>\n",
       "</div>"
      ],
      "text/plain": [
       "        country  year  NY.GDP.MKTP.CD  GDP (£m)\n",
       "34  Afghanistan  2013    2.031088e+10     12980\n",
       "35      Albania  2013    1.291667e+10      8255\n",
       "36      Algeria  2013    2.101834e+11    134322\n",
       "38      Andorra  2013    3.249101e+09      2076\n",
       "39       Angola  2013    1.241632e+11     79349"
      ]
     },
     "execution_count": 200,
     "metadata": {},
     "output_type": "execute_result"
    }
   ],
   "source": [
    "def roundToMillions (value):\n",
    "    return round(value / 1000000)\n",
    "\n",
    "def usdToGBP (usd):\n",
    "    return usd / 1.564768\n",
    "\n",
    "GDP = 'GDP (£m)'\n",
    "gdp[GDP] = gdp[GDP_INDICATOR].apply(usdToGBP).apply(roundToMillions)\n",
    "gdp.head()"
   ]
  },
  {
   "cell_type": "markdown",
   "metadata": {},
   "source": [
    "The unnecessary columns can be dropped."
   ]
  },
  {
   "cell_type": "code",
   "execution_count": 201,
   "metadata": {
    "collapsed": false
   },
   "outputs": [
    {
     "data": {
      "text/html": [
       "<div>\n",
       "<table border=\"1\" class=\"dataframe\">\n",
       "  <thead>\n",
       "    <tr style=\"text-align: right;\">\n",
       "      <th></th>\n",
       "      <th>country</th>\n",
       "      <th>GDP (£m)</th>\n",
       "    </tr>\n",
       "  </thead>\n",
       "  <tbody>\n",
       "    <tr>\n",
       "      <th>34</th>\n",
       "      <td>Afghanistan</td>\n",
       "      <td>12980</td>\n",
       "    </tr>\n",
       "    <tr>\n",
       "      <th>35</th>\n",
       "      <td>Albania</td>\n",
       "      <td>8255</td>\n",
       "    </tr>\n",
       "    <tr>\n",
       "      <th>36</th>\n",
       "      <td>Algeria</td>\n",
       "      <td>134322</td>\n",
       "    </tr>\n",
       "    <tr>\n",
       "      <th>38</th>\n",
       "      <td>Andorra</td>\n",
       "      <td>2076</td>\n",
       "    </tr>\n",
       "    <tr>\n",
       "      <th>39</th>\n",
       "      <td>Angola</td>\n",
       "      <td>79349</td>\n",
       "    </tr>\n",
       "  </tbody>\n",
       "</table>\n",
       "</div>"
      ],
      "text/plain": [
       "        country  GDP (£m)\n",
       "34  Afghanistan     12980\n",
       "35      Albania      8255\n",
       "36      Algeria    134322\n",
       "38      Andorra      2076\n",
       "39       Angola     79349"
      ]
     },
     "execution_count": 201,
     "metadata": {},
     "output_type": "execute_result"
    }
   ],
   "source": [
    "COUNTRY = 'country'\n",
    "headings = [COUNTRY, GDP]\n",
    "gdp = gdp[headings]\n",
    "gdp.head()"
   ]
  },
  {
   "cell_type": "markdown",
   "metadata": {},
   "source": [
    "The World Bank reports the life expectancy with several decimal places. After rounding, the original column is discarded."
   ]
  },
  {
   "cell_type": "code",
   "execution_count": 202,
   "metadata": {
    "collapsed": false
   },
   "outputs": [
    {
     "data": {
      "text/html": [
       "<div>\n",
       "<table border=\"1\" class=\"dataframe\">\n",
       "  <thead>\n",
       "    <tr style=\"text-align: right;\">\n",
       "      <th></th>\n",
       "      <th>country</th>\n",
       "      <th>Life expectancy (years)</th>\n",
       "    </tr>\n",
       "  </thead>\n",
       "  <tbody>\n",
       "    <tr>\n",
       "      <th>34</th>\n",
       "      <td>Afghanistan</td>\n",
       "      <td>61</td>\n",
       "    </tr>\n",
       "    <tr>\n",
       "      <th>35</th>\n",
       "      <td>Albania</td>\n",
       "      <td>78</td>\n",
       "    </tr>\n",
       "    <tr>\n",
       "      <th>36</th>\n",
       "      <td>Algeria</td>\n",
       "      <td>71</td>\n",
       "    </tr>\n",
       "    <tr>\n",
       "      <th>39</th>\n",
       "      <td>Angola</td>\n",
       "      <td>52</td>\n",
       "    </tr>\n",
       "    <tr>\n",
       "      <th>40</th>\n",
       "      <td>Antigua and Barbuda</td>\n",
       "      <td>76</td>\n",
       "    </tr>\n",
       "  </tbody>\n",
       "</table>\n",
       "</div>"
      ],
      "text/plain": [
       "                country  Life expectancy (years)\n",
       "34          Afghanistan                       61\n",
       "35              Albania                       78\n",
       "36              Algeria                       71\n",
       "39               Angola                       52\n",
       "40  Antigua and Barbuda                       76"
      ]
     },
     "execution_count": 202,
     "metadata": {},
     "output_type": "execute_result"
    }
   ],
   "source": [
    "LIFE = 'Life expectancy (years)'\n",
    "life[LIFE] = life[LIFE_INDICATOR].apply(round)\n",
    "headings = [COUNTRY, LIFE]\n",
    "life = life[headings]\n",
    "life.head()"
   ]
  },
  {
   "cell_type": "markdown",
   "metadata": {},
   "source": [
    "## Combining the data\n",
    "\n",
    "The tables are combined through an inner join on the common 'country' column. "
   ]
  },
  {
   "cell_type": "code",
   "execution_count": 203,
   "metadata": {
    "collapsed": false
   },
   "outputs": [
    {
     "data": {
      "text/html": [
       "<div>\n",
       "<table border=\"1\" class=\"dataframe\">\n",
       "  <thead>\n",
       "    <tr style=\"text-align: right;\">\n",
       "      <th></th>\n",
       "      <th>country</th>\n",
       "      <th>GDP (£m)</th>\n",
       "      <th>Life expectancy (years)</th>\n",
       "    </tr>\n",
       "  </thead>\n",
       "  <tbody>\n",
       "    <tr>\n",
       "      <th>0</th>\n",
       "      <td>Afghanistan</td>\n",
       "      <td>12980</td>\n",
       "      <td>61</td>\n",
       "    </tr>\n",
       "    <tr>\n",
       "      <th>1</th>\n",
       "      <td>Albania</td>\n",
       "      <td>8255</td>\n",
       "      <td>78</td>\n",
       "    </tr>\n",
       "    <tr>\n",
       "      <th>2</th>\n",
       "      <td>Algeria</td>\n",
       "      <td>134322</td>\n",
       "      <td>71</td>\n",
       "    </tr>\n",
       "    <tr>\n",
       "      <th>3</th>\n",
       "      <td>Angola</td>\n",
       "      <td>79349</td>\n",
       "      <td>52</td>\n",
       "    </tr>\n",
       "    <tr>\n",
       "      <th>4</th>\n",
       "      <td>Antigua and Barbuda</td>\n",
       "      <td>767</td>\n",
       "      <td>76</td>\n",
       "    </tr>\n",
       "  </tbody>\n",
       "</table>\n",
       "</div>"
      ],
      "text/plain": [
       "               country  GDP (£m)  Life expectancy (years)\n",
       "0          Afghanistan     12980                       61\n",
       "1              Albania      8255                       78\n",
       "2              Algeria    134322                       71\n",
       "3               Angola     79349                       52\n",
       "4  Antigua and Barbuda       767                       76"
      ]
     },
     "execution_count": 203,
     "metadata": {},
     "output_type": "execute_result"
    }
   ],
   "source": [
    "gdpVsLife = merge(gdp, life, on=COUNTRY, how='inner')\n",
    "gdpVsLife.head()"
   ]
  },
  {
   "cell_type": "markdown",
   "metadata": {},
   "source": [
    "## Calculating the correlation\n",
    "\n",
    "To measure if the life expectancy and the GDP grow together, the Spearman rank correlation coefficient is used. It is a number from -1 (perfect inverse rank correlation: if one indicator increases, the other decreases) to 1 (perfect direct rank correlation: if one indicator increases, so does the other), with 0 meaning there is no rank correlation. A perfect correlation doesn't imply any cause-effect relation between the two indicators. A p-value below 0.05 means the correlation is statistically significant."
   ]
  },
  {
   "cell_type": "code",
   "execution_count": 204,
   "metadata": {
    "collapsed": false
   },
   "outputs": [
    {
     "name": "stdout",
     "output_type": "stream",
     "text": [
      "The correlation is 0.492478668762\n",
      "It is statistically significant.\n"
     ]
    }
   ],
   "source": [
    "from scipy.stats import spearmanr\n",
    "\n",
    "gdpColumn = gdpVsLife[GDP]\n",
    "lifeColumn = gdpVsLife[LIFE]\n",
    "(correlation, pValue) = spearmanr(gdpColumn, lifeColumn)\n",
    "print('The correlation is', correlation)\n",
    "if pValue < 0.05:\n",
    "    print('It is statistically significant.')\n",
    "else:\n",
    "    print('It is not statistically significant.')"
   ]
  },
  {
   "cell_type": "markdown",
   "metadata": {},
   "source": [
    "The value shows a direct correlation, i.e. richer countries tend to have longer life expectancy, but it is not very strong."
   ]
  },
  {
   "cell_type": "markdown",
   "metadata": {},
   "source": [
    "## Showing the data\n",
    "\n",
    "Measures of correlation can be misleading, so it is best to see the overall picture with a scatterplot. The GDP axis uses a logarithmic scale to better display the vast range of GDP values, from a few million to several billion (million of million) pounds."
   ]
  },
  {
   "cell_type": "code",
   "execution_count": 205,
   "metadata": {
    "collapsed": false
   },
   "outputs": [
    {
     "data": {
      "text/plain": [
       "<matplotlib.axes._subplots.AxesSubplot at 0x7f3d42ba3550>"
      ]
     },
     "execution_count": 205,
     "metadata": {},
     "output_type": "execute_result"
    },
    {
     "data": {
      "image/png": "[encoded data removed]",
      "text/plain": [
       "<matplotlib.figure.Figure at 0x7f3d42b3a8d0>"
      ]
     },
     "metadata": {},
     "output_type": "display_data"
    }
   ],
   "source": [
    "%matplotlib inline\n",
    "gdpVsLife.plot(x=GDP, y=LIFE, kind='scatter', grid=True, logx=True, figsize=(10, 4))"
   ]
  },
  {
   "cell_type": "markdown",
   "metadata": {},
   "source": [
    "The plot shows there is no clear correlation: there are rich countries with low life expectancy, poor countries with high expectancy, and countries with around 10 thousand (10<sup>4</sup>) million pounds GDP have almost the full range of values, from below 50 to over 80 years. Towards the lower and higher end of GDP, the variation diminishes. Above 40 thousand million pounds of GDP (3rd tick mark to the right of 10<sup>4</sup>), most countries have an expectancy of 70 years or more, whilst below that threshold most countries' life expectancy is below 70 years. \n",
    "\n",
    "Comparing the 10 richest countries and the 10 countries with the highest life expectancy shows that total GDP is a rather crude measure of life expectancy. The population size should be taken into account for a more precise definition of what 'poor' and 'rich' means. Looking at the countries below, the ten richest countries consume significantly large land areas and presumably high populations to boost the total GDP. The ten countries with the highest life expectancy are all except for Singapore (an oddity in the list) highly developed first world countries with large proportions of people working in financial, commercial and service industries. They are countries made up of a large proportion of relatively rich people. This suggests a strong correlation between an individual's wealth and high life expectancy. "
   ]
  },
  {
   "cell_type": "code",
   "execution_count": 206,
   "metadata": {
    "collapsed": false
   },
   "outputs": [
    {
     "data": {
      "text/html": [
       "<div>\n",
       "<table border=\"1\" class=\"dataframe\">\n",
       "  <thead>\n",
       "    <tr style=\"text-align: right;\">\n",
       "      <th></th>\n",
       "      <th>country</th>\n",
       "      <th>GDP (£m)</th>\n",
       "      <th>Life expectancy (years)</th>\n",
       "    </tr>\n",
       "  </thead>\n",
       "  <tbody>\n",
       "    <tr>\n",
       "      <th>76</th>\n",
       "      <td>India</td>\n",
       "      <td>1189826</td>\n",
       "      <td>66</td>\n",
       "    </tr>\n",
       "    <tr>\n",
       "      <th>139</th>\n",
       "      <td>Russian Federation</td>\n",
       "      <td>1328647</td>\n",
       "      <td>71</td>\n",
       "    </tr>\n",
       "    <tr>\n",
       "      <th>82</th>\n",
       "      <td>Italy</td>\n",
       "      <td>1365665</td>\n",
       "      <td>82</td>\n",
       "    </tr>\n",
       "    <tr>\n",
       "      <th>23</th>\n",
       "      <td>Brazil</td>\n",
       "      <td>1528722</td>\n",
       "      <td>74</td>\n",
       "    </tr>\n",
       "    <tr>\n",
       "      <th>176</th>\n",
       "      <td>United Kingdom</td>\n",
       "      <td>1711547</td>\n",
       "      <td>81</td>\n",
       "    </tr>\n",
       "    <tr>\n",
       "      <th>59</th>\n",
       "      <td>France</td>\n",
       "      <td>1795953</td>\n",
       "      <td>82</td>\n",
       "    </tr>\n",
       "    <tr>\n",
       "      <th>63</th>\n",
       "      <td>Germany</td>\n",
       "      <td>2383906</td>\n",
       "      <td>81</td>\n",
       "    </tr>\n",
       "    <tr>\n",
       "      <th>84</th>\n",
       "      <td>Japan</td>\n",
       "      <td>3143957</td>\n",
       "      <td>83</td>\n",
       "    </tr>\n",
       "    <tr>\n",
       "      <th>35</th>\n",
       "      <td>China</td>\n",
       "      <td>6065182</td>\n",
       "      <td>75</td>\n",
       "    </tr>\n",
       "    <tr>\n",
       "      <th>177</th>\n",
       "      <td>United States</td>\n",
       "      <td>10715999</td>\n",
       "      <td>79</td>\n",
       "    </tr>\n",
       "  </tbody>\n",
       "</table>\n",
       "</div>"
      ],
      "text/plain": [
       "                country  GDP (£m)  Life expectancy (years)\n",
       "76                India   1189826                       66\n",
       "139  Russian Federation   1328647                       71\n",
       "82                Italy   1365665                       82\n",
       "23               Brazil   1528722                       74\n",
       "176      United Kingdom   1711547                       81\n",
       "59               France   1795953                       82\n",
       "63              Germany   2383906                       81\n",
       "84                Japan   3143957                       83\n",
       "35                China   6065182                       75\n",
       "177       United States  10715999                       79"
      ]
     },
     "execution_count": 206,
     "metadata": {},
     "output_type": "execute_result"
    }
   ],
   "source": [
    "# the 10 countries with highest GDP\n",
    "gdpVsLife.sort(GDP).tail(10)"
   ]
  },
  {
   "cell_type": "code",
   "execution_count": 207,
   "metadata": {
    "collapsed": false
   },
   "outputs": [
    {
     "data": {
      "text/html": [
       "<div>\n",
       "<table border=\"1\" class=\"dataframe\">\n",
       "  <thead>\n",
       "    <tr style=\"text-align: right;\">\n",
       "      <th></th>\n",
       "      <th>country</th>\n",
       "      <th>GDP (£m)</th>\n",
       "      <th>Life expectancy (years)</th>\n",
       "    </tr>\n",
       "  </thead>\n",
       "  <tbody>\n",
       "    <tr>\n",
       "      <th>59</th>\n",
       "      <td>France</td>\n",
       "      <td>1795953</td>\n",
       "      <td>82</td>\n",
       "    </tr>\n",
       "    <tr>\n",
       "      <th>100</th>\n",
       "      <td>Luxembourg</td>\n",
       "      <td>38428</td>\n",
       "      <td>82</td>\n",
       "    </tr>\n",
       "    <tr>\n",
       "      <th>148</th>\n",
       "      <td>Singapore</td>\n",
       "      <td>193157</td>\n",
       "      <td>82</td>\n",
       "    </tr>\n",
       "    <tr>\n",
       "      <th>161</th>\n",
       "      <td>Sweden</td>\n",
       "      <td>370359</td>\n",
       "      <td>82</td>\n",
       "    </tr>\n",
       "    <tr>\n",
       "      <th>7</th>\n",
       "      <td>Australia</td>\n",
       "      <td>997191</td>\n",
       "      <td>82</td>\n",
       "    </tr>\n",
       "    <tr>\n",
       "      <th>82</th>\n",
       "      <td>Italy</td>\n",
       "      <td>1365665</td>\n",
       "      <td>82</td>\n",
       "    </tr>\n",
       "    <tr>\n",
       "      <th>84</th>\n",
       "      <td>Japan</td>\n",
       "      <td>3143957</td>\n",
       "      <td>83</td>\n",
       "    </tr>\n",
       "    <tr>\n",
       "      <th>162</th>\n",
       "      <td>Switzerland</td>\n",
       "      <td>438042</td>\n",
       "      <td>83</td>\n",
       "    </tr>\n",
       "    <tr>\n",
       "      <th>75</th>\n",
       "      <td>Iceland</td>\n",
       "      <td>9838</td>\n",
       "      <td>83</td>\n",
       "    </tr>\n",
       "    <tr>\n",
       "      <th>73</th>\n",
       "      <td>Hong Kong SAR, China</td>\n",
       "      <td>176220</td>\n",
       "      <td>84</td>\n",
       "    </tr>\n",
       "  </tbody>\n",
       "</table>\n",
       "</div>"
      ],
      "text/plain": [
       "                  country  GDP (£m)  Life expectancy (years)\n",
       "59                 France   1795953                       82\n",
       "100            Luxembourg     38428                       82\n",
       "148             Singapore    193157                       82\n",
       "161                Sweden    370359                       82\n",
       "7               Australia    997191                       82\n",
       "82                  Italy   1365665                       82\n",
       "84                  Japan   3143957                       83\n",
       "162           Switzerland    438042                       83\n",
       "75                Iceland      9838                       83\n",
       "73   Hong Kong SAR, China    176220                       84"
      ]
     },
     "execution_count": 207,
     "metadata": {},
     "output_type": "execute_result"
    }
   ],
   "source": [
    "# the 10 countries with longest life expectancy\n",
    "gdpVsLife.sort(LIFE).tail(10)"
   ]
  },
  {
   "cell_type": "markdown",
   "metadata": {},
   "source": [
    "## Two countries \n",
    "There are two countries in the right half of the plot (higher GDP) with life expectancy below 60 years."
   ]
  },
  {
   "cell_type": "code",
   "execution_count": 208,
   "metadata": {
    "collapsed": false
   },
   "outputs": [
    {
     "data": {
      "text/html": [
       "<div>\n",
       "<table border=\"1\" class=\"dataframe\">\n",
       "  <thead>\n",
       "    <tr style=\"text-align: right;\">\n",
       "      <th></th>\n",
       "      <th>country</th>\n",
       "      <th>GDP (£m)</th>\n",
       "      <th>Life expectancy (years)</th>\n",
       "    </tr>\n",
       "  </thead>\n",
       "  <tbody>\n",
       "    <tr>\n",
       "      <th>125</th>\n",
       "      <td>Nigeria</td>\n",
       "      <td>329100</td>\n",
       "      <td>52</td>\n",
       "    </tr>\n",
       "    <tr>\n",
       "      <th>152</th>\n",
       "      <td>South Africa</td>\n",
       "      <td>233937</td>\n",
       "      <td>57</td>\n",
       "    </tr>\n",
       "  </tbody>\n",
       "</table>\n",
       "</div>"
      ],
      "text/plain": [
       "          country  GDP (£m)  Life expectancy (years)\n",
       "125       Nigeria    329100                       52\n",
       "152  South Africa    233937                       57"
      ]
     },
     "execution_count": 208,
     "metadata": {},
     "output_type": "execute_result"
    }
   ],
   "source": [
    "gdpVsLife[(gdpVsLife[LIFE] < 60) & (gdpVsLife[GDP] > 100000)]"
   ]
  },
  {
   "cell_type": "markdown",
   "metadata": {},
   "source": [
    "What factors could explain their lower life expectancy compared to countries with similar GDP? These are African nations and probably two of the wealthiest African nations, more so in terms of total GDP. They may have very large populations and an unequal division of wealth. Access to good healthcare is notoriously bad for the majority of poor Africans. The continent is plagued by war, famine and diseases that have been wiped out in developed parts of the world. A country may have a high GDP but with a large population and high numbers of people living in poverty then the average life expectancy is likely to fall compared with countries of a similarly high GDP. All these factors are likely to apply to Nigeria and South Africa. "
   ]
  },
  {
   "cell_type": "markdown",
   "metadata": {},
   "source": [
    "## GDP per capita\n",
    "GDP per capita calculates the GDP per person, i.e. GDP / Population. I have reasoned that this may give a fairer depiction of the correlation between wealth and life expectancy.\n"
   ]
  },
  {
   "cell_type": "code",
   "execution_count": 209,
   "metadata": {
    "collapsed": false
   },
   "outputs": [],
   "source": [
    "# Import the population data from the World Bank site. \n",
    "from pandas import *\n",
    "from pandas.io.wb import download\n",
    "\n",
    "YEAR = 2013\n",
    "POP_INDICATOR = 'SP.POP.TOTL'\n",
    "pop = download(indicator=POP_INDICATOR, country='all', start=YEAR, end=YEAR)\n",
    "POP = \"Population\"\n",
    "pop[POP] = pop[POP_INDICATOR]\n",
    "pop = pop.reset_index()\n",
    "headings = [COUNTRY, POP]\n",
    "pop = pop[34:].dropna()[headings]\n",
    "\n",
    "# Merge this data with the current table.\n",
    "gdpVsLifeVsPop = merge(gdpVsLife, pop, on=COUNTRY, how='inner')\n",
    "\n",
    "# Add GDP per capita column by calculating a country's GDP (£) divided by its population\n",
    "gdpVsLifeVsPop[GDPPC] = (gdpVsLifeVsPop[GDP]*1000000/(gdpVsLifeVsPop[POP])).round(2)"
   ]
  },
  {
   "cell_type": "code",
   "execution_count": 210,
   "metadata": {
    "collapsed": false
   },
   "outputs": [
    {
     "data": {
      "text/html": [
       "<div>\n",
       "<table border=\"1\" class=\"dataframe\">\n",
       "  <thead>\n",
       "    <tr style=\"text-align: right;\">\n",
       "      <th></th>\n",
       "      <th>country</th>\n",
       "      <th>GDP (£m)</th>\n",
       "      <th>Life expectancy (years)</th>\n",
       "      <th>Population</th>\n",
       "      <th>GDP per Capita (£)</th>\n",
       "    </tr>\n",
       "  </thead>\n",
       "  <tbody>\n",
       "    <tr>\n",
       "      <th>104</th>\n",
       "      <td>Malawi</td>\n",
       "      <td>2482</td>\n",
       "      <td>55</td>\n",
       "      <td>16190126</td>\n",
       "      <td>153.30</td>\n",
       "    </tr>\n",
       "    <tr>\n",
       "      <th>27</th>\n",
       "      <td>Burundi</td>\n",
       "      <td>1735</td>\n",
       "      <td>54</td>\n",
       "      <td>10465959</td>\n",
       "      <td>165.78</td>\n",
       "    </tr>\n",
       "    <tr>\n",
       "      <th>32</th>\n",
       "      <td>Central African Republic</td>\n",
       "      <td>987</td>\n",
       "      <td>50</td>\n",
       "      <td>4710678</td>\n",
       "      <td>209.52</td>\n",
       "    </tr>\n",
       "    <tr>\n",
       "      <th>38</th>\n",
       "      <td>Congo, Dem. Rep.</td>\n",
       "      <td>19182</td>\n",
       "      <td>50</td>\n",
       "      <td>72552861</td>\n",
       "      <td>264.39</td>\n",
       "    </tr>\n",
       "    <tr>\n",
       "      <th>124</th>\n",
       "      <td>Niger</td>\n",
       "      <td>4910</td>\n",
       "      <td>58</td>\n",
       "      <td>18358863</td>\n",
       "      <td>267.45</td>\n",
       "    </tr>\n",
       "    <tr>\n",
       "      <th>97</th>\n",
       "      <td>Liberia</td>\n",
       "      <td>1244</td>\n",
       "      <td>61</td>\n",
       "      <td>4293692</td>\n",
       "      <td>289.73</td>\n",
       "    </tr>\n",
       "    <tr>\n",
       "      <th>103</th>\n",
       "      <td>Madagascar</td>\n",
       "      <td>6783</td>\n",
       "      <td>65</td>\n",
       "      <td>22924557</td>\n",
       "      <td>295.88</td>\n",
       "    </tr>\n",
       "    <tr>\n",
       "      <th>61</th>\n",
       "      <td>Gambia, The</td>\n",
       "      <td>570</td>\n",
       "      <td>59</td>\n",
       "      <td>1866878</td>\n",
       "      <td>305.32</td>\n",
       "    </tr>\n",
       "    <tr>\n",
       "      <th>55</th>\n",
       "      <td>Ethiopia</td>\n",
       "      <td>30372</td>\n",
       "      <td>64</td>\n",
       "      <td>94558374</td>\n",
       "      <td>321.20</td>\n",
       "    </tr>\n",
       "    <tr>\n",
       "      <th>68</th>\n",
       "      <td>Guinea</td>\n",
       "      <td>3983</td>\n",
       "      <td>56</td>\n",
       "      <td>11948726</td>\n",
       "      <td>333.34</td>\n",
       "    </tr>\n",
       "  </tbody>\n",
       "</table>\n",
       "</div>"
      ],
      "text/plain": [
       "                      country  GDP (£m)  Life expectancy (years)  Population  \\\n",
       "104                    Malawi      2482                       55    16190126   \n",
       "27                    Burundi      1735                       54    10465959   \n",
       "32   Central African Republic       987                       50     4710678   \n",
       "38           Congo, Dem. Rep.     19182                       50    72552861   \n",
       "124                     Niger      4910                       58    18358863   \n",
       "97                    Liberia      1244                       61     4293692   \n",
       "103                Madagascar      6783                       65    22924557   \n",
       "61                Gambia, The       570                       59     1866878   \n",
       "55                   Ethiopia     30372                       64    94558374   \n",
       "68                     Guinea      3983                       56    11948726   \n",
       "\n",
       "     GDP per Capita (£)  \n",
       "104              153.30  \n",
       "27               165.78  \n",
       "32               209.52  \n",
       "38               264.39  \n",
       "124              267.45  \n",
       "97               289.73  \n",
       "103              295.88  \n",
       "61               305.32  \n",
       "55               321.20  \n",
       "68               333.34  "
      ]
     },
     "execution_count": 210,
     "metadata": {},
     "output_type": "execute_result"
    }
   ],
   "source": [
    "# The ten poorest countries by per capita GDP (£)\n",
    "gdpVsLifeVsPop.sort(GDPPC).head(10)"
   ]
  },
  {
   "cell_type": "code",
   "execution_count": 211,
   "metadata": {
    "collapsed": false
   },
   "outputs": [
    {
     "data": {
      "text/html": [
       "<div>\n",
       "<table border=\"1\" class=\"dataframe\">\n",
       "  <thead>\n",
       "    <tr style=\"text-align: right;\">\n",
       "      <th></th>\n",
       "      <th>country</th>\n",
       "      <th>GDP (£m)</th>\n",
       "      <th>Life expectancy (years)</th>\n",
       "      <th>Population</th>\n",
       "      <th>GDP per Capita (£)</th>\n",
       "    </tr>\n",
       "  </thead>\n",
       "  <tbody>\n",
       "    <tr>\n",
       "      <th>148</th>\n",
       "      <td>Singapore</td>\n",
       "      <td>193157</td>\n",
       "      <td>82</td>\n",
       "      <td>5399200</td>\n",
       "      <td>35775.11</td>\n",
       "    </tr>\n",
       "    <tr>\n",
       "      <th>46</th>\n",
       "      <td>Denmark</td>\n",
       "      <td>214650</td>\n",
       "      <td>80</td>\n",
       "      <td>5614932</td>\n",
       "      <td>38228.42</td>\n",
       "    </tr>\n",
       "    <tr>\n",
       "      <th>161</th>\n",
       "      <td>Sweden</td>\n",
       "      <td>370359</td>\n",
       "      <td>82</td>\n",
       "      <td>9600379</td>\n",
       "      <td>38577.54</td>\n",
       "    </tr>\n",
       "    <tr>\n",
       "      <th>7</th>\n",
       "      <td>Australia</td>\n",
       "      <td>997191</td>\n",
       "      <td>82</td>\n",
       "      <td>23125868</td>\n",
       "      <td>43120.15</td>\n",
       "    </tr>\n",
       "    <tr>\n",
       "      <th>162</th>\n",
       "      <td>Switzerland</td>\n",
       "      <td>438042</td>\n",
       "      <td>83</td>\n",
       "      <td>8089346</td>\n",
       "      <td>54150.48</td>\n",
       "    </tr>\n",
       "    <tr>\n",
       "      <th>18</th>\n",
       "      <td>Bermuda</td>\n",
       "      <td>3562</td>\n",
       "      <td>81</td>\n",
       "      <td>65001</td>\n",
       "      <td>54799.16</td>\n",
       "    </tr>\n",
       "    <tr>\n",
       "      <th>101</th>\n",
       "      <td>Macao SAR, China</td>\n",
       "      <td>32793</td>\n",
       "      <td>80</td>\n",
       "      <td>568056</td>\n",
       "      <td>57728.46</td>\n",
       "    </tr>\n",
       "    <tr>\n",
       "      <th>137</th>\n",
       "      <td>Qatar</td>\n",
       "      <td>129882</td>\n",
       "      <td>79</td>\n",
       "      <td>2101288</td>\n",
       "      <td>61810.66</td>\n",
       "    </tr>\n",
       "    <tr>\n",
       "      <th>126</th>\n",
       "      <td>Norway</td>\n",
       "      <td>333819</td>\n",
       "      <td>81</td>\n",
       "      <td>5079623</td>\n",
       "      <td>65717.28</td>\n",
       "    </tr>\n",
       "    <tr>\n",
       "      <th>100</th>\n",
       "      <td>Luxembourg</td>\n",
       "      <td>38428</td>\n",
       "      <td>82</td>\n",
       "      <td>543360</td>\n",
       "      <td>70722.91</td>\n",
       "    </tr>\n",
       "  </tbody>\n",
       "</table>\n",
       "</div>"
      ],
      "text/plain": [
       "              country  GDP (£m)  Life expectancy (years)  Population  \\\n",
       "148         Singapore    193157                       82     5399200   \n",
       "46            Denmark    214650                       80     5614932   \n",
       "161            Sweden    370359                       82     9600379   \n",
       "7           Australia    997191                       82    23125868   \n",
       "162       Switzerland    438042                       83     8089346   \n",
       "18            Bermuda      3562                       81       65001   \n",
       "101  Macao SAR, China     32793                       80      568056   \n",
       "137             Qatar    129882                       79     2101288   \n",
       "126            Norway    333819                       81     5079623   \n",
       "100        Luxembourg     38428                       82      543360   \n",
       "\n",
       "     GDP per Capita (£)  \n",
       "148            35775.11  \n",
       "46             38228.42  \n",
       "161            38577.54  \n",
       "7              43120.15  \n",
       "162            54150.48  \n",
       "18             54799.16  \n",
       "101            57728.46  \n",
       "137            61810.66  \n",
       "126            65717.28  \n",
       "100            70722.91  "
      ]
     },
     "execution_count": 211,
     "metadata": {},
     "output_type": "execute_result"
    }
   ],
   "source": [
    "# The ten richest countries by per capita GDP (£)\n",
    "gdpVsLifeVsPop.sort(GDPPC).tail(10)"
   ]
  },
  {
   "cell_type": "code",
   "execution_count": 212,
   "metadata": {
    "collapsed": false
   },
   "outputs": [],
   "source": [
    "# And import the World Bank data value itself in international dollars\n",
    "YEAR = 2013\n",
    "GPC_INDICATOR = 'NY.GDP.PCAP.PP.CD'\n",
    "gpc = download(indicator=GPC_INDICATOR, country='all', start=YEAR, end=YEAR)\n",
    "GPC = 'GDP Per Cap ($)'\n",
    "gpc[GPC] = gpc[GPC_INDICATOR]\n",
    "gpc = gpc.reset_index()\n",
    "headings = [COUNTRY, GPC]\n",
    "gpc = gpc[34:].dropna()[headings]\n",
    "\n",
    "# Merge all data\n",
    "twoPerCapVals = merge(gdpVsLifeVsPop, gpc, on=COUNTRY, how='inner')"
   ]
  },
  {
   "cell_type": "code",
   "execution_count": 213,
   "metadata": {
    "collapsed": false
   },
   "outputs": [
    {
     "data": {
      "text/html": [
       "<div>\n",
       "<table border=\"1\" class=\"dataframe\">\n",
       "  <thead>\n",
       "    <tr style=\"text-align: right;\">\n",
       "      <th></th>\n",
       "      <th>country</th>\n",
       "      <th>GDP (£m)</th>\n",
       "      <th>Life expectancy (years)</th>\n",
       "      <th>Population</th>\n",
       "      <th>GDP per Capita (£)</th>\n",
       "      <th>GDP Per Cap ($)</th>\n",
       "    </tr>\n",
       "  </thead>\n",
       "  <tbody>\n",
       "    <tr>\n",
       "      <th>31</th>\n",
       "      <td>Central African Republic</td>\n",
       "      <td>987</td>\n",
       "      <td>50</td>\n",
       "      <td>4710678</td>\n",
       "      <td>209.52</td>\n",
       "      <td>591.287014</td>\n",
       "    </tr>\n",
       "    <tr>\n",
       "      <th>37</th>\n",
       "      <td>Congo, Dem. Rep.</td>\n",
       "      <td>19182</td>\n",
       "      <td>50</td>\n",
       "      <td>72552861</td>\n",
       "      <td>264.39</td>\n",
       "      <td>695.696845</td>\n",
       "    </tr>\n",
       "    <tr>\n",
       "      <th>26</th>\n",
       "      <td>Burundi</td>\n",
       "      <td>1735</td>\n",
       "      <td>54</td>\n",
       "      <td>10465959</td>\n",
       "      <td>165.78</td>\n",
       "      <td>749.326722</td>\n",
       "    </tr>\n",
       "    <tr>\n",
       "      <th>102</th>\n",
       "      <td>Malawi</td>\n",
       "      <td>2482</td>\n",
       "      <td>55</td>\n",
       "      <td>16190126</td>\n",
       "      <td>153.30</td>\n",
       "      <td>790.025986</td>\n",
       "    </tr>\n",
       "    <tr>\n",
       "      <th>95</th>\n",
       "      <td>Liberia</td>\n",
       "      <td>1244</td>\n",
       "      <td>61</td>\n",
       "      <td>4293692</td>\n",
       "      <td>289.73</td>\n",
       "      <td>844.243544</td>\n",
       "    </tr>\n",
       "    <tr>\n",
       "      <th>121</th>\n",
       "      <td>Niger</td>\n",
       "      <td>4910</td>\n",
       "      <td>58</td>\n",
       "      <td>18358863</td>\n",
       "      <td>267.45</td>\n",
       "      <td>900.151134</td>\n",
       "    </tr>\n",
       "    <tr>\n",
       "      <th>115</th>\n",
       "      <td>Mozambique</td>\n",
       "      <td>9878</td>\n",
       "      <td>50</td>\n",
       "      <td>26467180</td>\n",
       "      <td>373.22</td>\n",
       "      <td>1073.354223</td>\n",
       "    </tr>\n",
       "    <tr>\n",
       "      <th>66</th>\n",
       "      <td>Guinea</td>\n",
       "      <td>3983</td>\n",
       "      <td>56</td>\n",
       "      <td>11948726</td>\n",
       "      <td>333.34</td>\n",
       "      <td>1231.714470</td>\n",
       "    </tr>\n",
       "    <tr>\n",
       "      <th>67</th>\n",
       "      <td>Guinea-Bissau</td>\n",
       "      <td>605</td>\n",
       "      <td>54</td>\n",
       "      <td>1757138</td>\n",
       "      <td>344.31</td>\n",
       "      <td>1364.652913</td>\n",
       "    </tr>\n",
       "    <tr>\n",
       "      <th>164</th>\n",
       "      <td>Togo</td>\n",
       "      <td>2773</td>\n",
       "      <td>56</td>\n",
       "      <td>6928719</td>\n",
       "      <td>400.22</td>\n",
       "      <td>1368.067380</td>\n",
       "    </tr>\n",
       "  </tbody>\n",
       "</table>\n",
       "</div>"
      ],
      "text/plain": [
       "                      country  GDP (£m)  Life expectancy (years)  Population  \\\n",
       "31   Central African Republic       987                       50     4710678   \n",
       "37           Congo, Dem. Rep.     19182                       50    72552861   \n",
       "26                    Burundi      1735                       54    10465959   \n",
       "102                    Malawi      2482                       55    16190126   \n",
       "95                    Liberia      1244                       61     4293692   \n",
       "121                     Niger      4910                       58    18358863   \n",
       "115                Mozambique      9878                       50    26467180   \n",
       "66                     Guinea      3983                       56    11948726   \n",
       "67              Guinea-Bissau       605                       54     1757138   \n",
       "164                      Togo      2773                       56     6928719   \n",
       "\n",
       "     GDP per Capita (£)  GDP Per Cap ($)  \n",
       "31               209.52       591.287014  \n",
       "37               264.39       695.696845  \n",
       "26               165.78       749.326722  \n",
       "102              153.30       790.025986  \n",
       "95               289.73       844.243544  \n",
       "121              267.45       900.151134  \n",
       "115              373.22      1073.354223  \n",
       "66               333.34      1231.714470  \n",
       "67               344.31      1364.652913  \n",
       "164              400.22      1368.067380  "
      ]
     },
     "execution_count": 213,
     "metadata": {},
     "output_type": "execute_result"
    }
   ],
   "source": [
    "# The ten richest countries by per capita - World Bank data (Int $)\n",
    "twoPerCapVals.sort(GPC).head(10)"
   ]
  },
  {
   "cell_type": "code",
   "execution_count": 214,
   "metadata": {
    "collapsed": false
   },
   "outputs": [
    {
     "data": {
      "text/html": [
       "<div>\n",
       "<table border=\"1\" class=\"dataframe\">\n",
       "  <thead>\n",
       "    <tr style=\"text-align: right;\">\n",
       "      <th></th>\n",
       "      <th>country</th>\n",
       "      <th>GDP (£m)</th>\n",
       "      <th>Life expectancy (years)</th>\n",
       "      <th>Population</th>\n",
       "      <th>GDP per Capita (£)</th>\n",
       "      <th>GDP Per Cap ($)</th>\n",
       "    </tr>\n",
       "  </thead>\n",
       "  <tbody>\n",
       "    <tr>\n",
       "      <th>71</th>\n",
       "      <td>Hong Kong SAR, China</td>\n",
       "      <td>176220</td>\n",
       "      <td>84</td>\n",
       "      <td>7187500</td>\n",
       "      <td>24517.57</td>\n",
       "      <td>53366.705986</td>\n",
       "    </tr>\n",
       "    <tr>\n",
       "      <th>159</th>\n",
       "      <td>Switzerland</td>\n",
       "      <td>438042</td>\n",
       "      <td>83</td>\n",
       "      <td>8089346</td>\n",
       "      <td>54150.48</td>\n",
       "      <td>56939.670293</td>\n",
       "    </tr>\n",
       "    <tr>\n",
       "      <th>172</th>\n",
       "      <td>United Arab Emirates</td>\n",
       "      <td>257124</td>\n",
       "      <td>77</td>\n",
       "      <td>9039978</td>\n",
       "      <td>28442.99</td>\n",
       "      <td>63116.602422</td>\n",
       "    </tr>\n",
       "    <tr>\n",
       "      <th>123</th>\n",
       "      <td>Norway</td>\n",
       "      <td>333819</td>\n",
       "      <td>81</td>\n",
       "      <td>5079623</td>\n",
       "      <td>65717.28</td>\n",
       "      <td>65640.162655</td>\n",
       "    </tr>\n",
       "    <tr>\n",
       "      <th>23</th>\n",
       "      <td>Brunei Darussalam</td>\n",
       "      <td>10296</td>\n",
       "      <td>79</td>\n",
       "      <td>411499</td>\n",
       "      <td>25020.72</td>\n",
       "      <td>72871.436805</td>\n",
       "    </tr>\n",
       "    <tr>\n",
       "      <th>89</th>\n",
       "      <td>Kuwait</td>\n",
       "      <td>112366</td>\n",
       "      <td>74</td>\n",
       "      <td>3593689</td>\n",
       "      <td>31267.59</td>\n",
       "      <td>76886.097209</td>\n",
       "    </tr>\n",
       "    <tr>\n",
       "      <th>145</th>\n",
       "      <td>Singapore</td>\n",
       "      <td>193157</td>\n",
       "      <td>82</td>\n",
       "      <td>5399200</td>\n",
       "      <td>35775.11</td>\n",
       "      <td>80295.027795</td>\n",
       "    </tr>\n",
       "    <tr>\n",
       "      <th>98</th>\n",
       "      <td>Luxembourg</td>\n",
       "      <td>38428</td>\n",
       "      <td>82</td>\n",
       "      <td>543360</td>\n",
       "      <td>70722.91</td>\n",
       "      <td>91047.588883</td>\n",
       "    </tr>\n",
       "    <tr>\n",
       "      <th>134</th>\n",
       "      <td>Qatar</td>\n",
       "      <td>129882</td>\n",
       "      <td>79</td>\n",
       "      <td>2101288</td>\n",
       "      <td>61810.66</td>\n",
       "      <td>140296.067939</td>\n",
       "    </tr>\n",
       "    <tr>\n",
       "      <th>99</th>\n",
       "      <td>Macao SAR, China</td>\n",
       "      <td>32793</td>\n",
       "      <td>80</td>\n",
       "      <td>568056</td>\n",
       "      <td>57728.46</td>\n",
       "      <td>140644.394985</td>\n",
       "    </tr>\n",
       "  </tbody>\n",
       "</table>\n",
       "</div>"
      ],
      "text/plain": [
       "                  country  GDP (£m)  Life expectancy (years)  Population  \\\n",
       "71   Hong Kong SAR, China    176220                       84     7187500   \n",
       "159           Switzerland    438042                       83     8089346   \n",
       "172  United Arab Emirates    257124                       77     9039978   \n",
       "123                Norway    333819                       81     5079623   \n",
       "23      Brunei Darussalam     10296                       79      411499   \n",
       "89                 Kuwait    112366                       74     3593689   \n",
       "145             Singapore    193157                       82     5399200   \n",
       "98             Luxembourg     38428                       82      543360   \n",
       "134                 Qatar    129882                       79     2101288   \n",
       "99       Macao SAR, China     32793                       80      568056   \n",
       "\n",
       "     GDP per Capita (£)  GDP Per Cap ($)  \n",
       "71             24517.57     53366.705986  \n",
       "159            54150.48     56939.670293  \n",
       "172            28442.99     63116.602422  \n",
       "123            65717.28     65640.162655  \n",
       "23             25020.72     72871.436805  \n",
       "89             31267.59     76886.097209  \n",
       "145            35775.11     80295.027795  \n",
       "98             70722.91     91047.588883  \n",
       "134            61810.66    140296.067939  \n",
       "99             57728.46    140644.394985  "
      ]
     },
     "execution_count": 214,
     "metadata": {},
     "output_type": "execute_result"
    }
   ],
   "source": [
    "# The ten richest countries by per capita - World Bank data (Int $)\n",
    "twoPerCapVals.sort(GPC).tail(10)"
   ]
  },
  {
   "cell_type": "markdown",
   "metadata": {},
   "source": [
    "## Calculating the correlation based on GDP per capita "
   ]
  },
  {
   "cell_type": "code",
   "execution_count": 215,
   "metadata": {
    "collapsed": false
   },
   "outputs": [
    {
     "name": "stdout",
     "output_type": "stream",
     "text": [
      "The correlation is 0.835314137588\n",
      "It is statistically significant.\n"
     ]
    }
   ],
   "source": [
    "from scipy.stats import spearmanr\n",
    "\n",
    "gpcColumn = twoPerCapVals[GPC]\n",
    "lifeColumn = twoPerCapVals[LIFE]\n",
    "(correlation, pValue) = spearmanr(gpcColumn, lifeColumn)\n",
    "print('The correlation is', correlation)\n",
    "if pValue < 0.05:\n",
    "    print('It is statistically significant.')\n",
    "else:\n",
    "    print('It is not statistically significant.')"
   ]
  },
  {
   "cell_type": "markdown",
   "metadata": {},
   "source": [
    "The value shows a direct correlation, i.e. richer countries tend to have longer life expectancy, and it is much stronger when based on GDP per capita than when based on total GDP."
   ]
  },
  {
   "cell_type": "markdown",
   "metadata": {},
   "source": [
    "## Showing the data based on GDP per capita "
   ]
  },
  {
   "cell_type": "code",
   "execution_count": 216,
   "metadata": {
    "collapsed": false
   },
   "outputs": [
    {
     "data": {
      "text/plain": [
       "<matplotlib.axes._subplots.AxesSubplot at 0x7f3d42a45dd8>"
      ]
     },
     "execution_count": 216,
     "metadata": {},
     "output_type": "execute_result"
    },
    {
     "data": {
      "image/png": "[encoded data removed]",
      "text/plain": [
       "<matplotlib.figure.Figure at 0x7f3d42b3a3c8>"
      ]
     },
     "metadata": {},
     "output_type": "display_data"
    }
   ],
   "source": [
    "%matplotlib inline\n",
    "twoPerCapVals.plot(x=GPC, y=LIFE, kind='scatter', grid=True, logx=True, figsize=(10, 4))"
   ]
  },
  {
   "cell_type": "markdown",
   "metadata": {},
   "source": [
    "This plot shows a more marked trend than we saw before. A general linear slant (representing a clear positive correlation between GDP Per Capita and Life Expectancy) can be seen. While there remain some exceptions to this trend, generally as a nation state's GDP per person increases so does life expectancy."
   ]
  },
  {
   "cell_type": "markdown",
   "metadata": {},
   "source": [
    "## Conclusions\n",
    "\n",
    "To sum up, there is some correlation between a country's wealth and the life expectancy of its inhabitants: there is often a wide variation of life expectancy for countries with similar GDP, countries with the lowest life expectancy are not the poorest countries, and countries with the highest expectancy are not the richest countries. Nevertheless there is some relationship, because the vast majority of countries with a life expectancy below 70 years is on the left half of the scatterplot.\n",
    "\n",
    "Using the [NY.GDP.PCAP.PP.CD](http://data.worldbank.org/indicator/NY.GDP.PCAP.PP.CD) indicator, GDP per capita in current 'international dollars', would make for a better like-for-like comparison between countries, because it would take population and purchasing power into account. Using more specific data, like expenditure on health, could also lead to a better analysis.\n"
   ]
  },
  {
   "cell_type": "markdown",
   "metadata": {},
   "source": [
    "## Conclusions based on GDP per capita\n",
    "\n",
    "Finally my calculations are in. GDP per capita in current 'international dollars' is a significantly better tool for highlighting the link between life expectancy and the wealth of a country. Life expectancy in the ten countries rated poorest on these terms ranged from 50 to 61. Every one of those countries is an African nation. While more geographically varied on the basis of GDP per capita, life expectancy in the ten richest countries ranged from 74 to 84 years of age. Stark extremes are highlighted here which suggest that those born in the richest countries in the world can, on average, expect to live a full quarter of a century longer than those born in the poorest nations."
   ]
  }
 ],
 "metadata": {
  "kernelspec": {
   "display_name": "Python 3",
   "language": "python",
   "name": "python3"
  },
  "language_info": {
   "codemirror_mode": {
    "name": "ipython",
    "version": 3
   },
   "file_extension": ".py",
   "mimetype": "text/x-python",
   "name": "python",
   "nbconvert_exporter": "python",
   "pygments_lexer": "ipython3",
   "version": "3.4.3"
  }
 },
 "nbformat": 4,
 "nbformat_minor": 0
}
